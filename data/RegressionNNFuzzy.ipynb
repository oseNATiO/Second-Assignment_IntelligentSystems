{
 "cells": [
  {
   "cell_type": "code",
   "execution_count": null,
   "metadata": {},
   "outputs": [],
   "source": [
    "# %% Import required packages\n",
    "import anfis\n",
    "from pyfume.Clustering import Clusterer\n",
    "from pyfume.EstimateAntecendentSet import AntecedentEstimator\n",
    "from pyfume.EstimateConsequentParameters import ConsequentEstimator\n",
    "from pyfume.SimpfulModelBuilder import SugenoFISBuilder\n",
    "from pyfume.Tester import SugenoFISTester\n",
    "from pandas import read_csv\n",
    "from sklearn.metrics import mean_squared_error, mean_absolute_percentage_error, explained_variance_score\n",
    "from sklearn.preprocessing import MinMaxScaler\n",
    "from sklearn.model_selection import train_test_split"
   ]
  },
  {
   "cell_type": "code",
   "execution_count": null,
   "metadata": {},
   "outputs": [],
   "source": [
    "# %% Train initial TS model and get performance metrics\n",
    "cl = Clusterer(x_train=X_train, y_train=y_train, nr_clus=10)\n",
    "clust_centers, part_matrix, _ = cl.cluster(method='fcm')\n",
    "ae = AntecedentEstimator(X_train, part_matrix)\n",
    "antecedent_params = ae.determineMF()\n",
    "ce = ConsequentEstimator(X_train, y_train, part_matrix)\n",
    "conseq_params = ce.suglms()\n",
    "modbuilder = SugenoFISBuilder(antecedent_params, conseq_params, var_names, save_simpful_code=False)\n",
    "model = modbuilder.get_model()\n",
    "modtester = SugenoFISTester(model, X_test, var_names)\n",
    "y_pred = modtester.predict()[0]\n",
    "mse_init = mean_squared_error(y_test, y_pred)\n",
    "print(\"Mean Squared Error: {:.3f}\".format(mse_init))\n",
    "mape_init = mean_absolute_percentage_error(y_test, y_pred)\n",
    "print(\"Mean Absolute Percentage Error: {:.1f}%\".format(mape_init*100))\n",
    "exp_var_init = explained_variance_score(y_test, y_pred)\n",
    "print(\"Explained Variance Score: {:.3f}\".format(exp_var_init))\n",
    "\n",
    "# %% Initialize ANFIS using the trained TS model \n",
    "anf = anfis.ANFIS(X_train, y_train, model, conseq_params)\n",
    "\n",
    "# %% Optimize ANFIS model and get performance metrics\n",
    "anf.trainHybridJangOffLine(epochs=20)\n",
    "y_pred = anfis.predict(anf, X_test)\n",
    "mse_final = mean_squared_error(y_test, y_pred)\n",
    "print(\"Mean Squared Error: {:.3f}\".format(mse_final))\n",
    "mape_final = mean_absolute_percentage_error(y_test, y_pred)\n",
    "print(\"Mean Absolute Percentage Error: {:.1f}%\".format(mape_final*100))\n",
    "exp_var_final = explained_variance_score(y_test, y_pred)\n",
    "print(\"Explained Variance Score: {:.3f}\".format(exp_var_final))"
   ]
  }
 ],
 "metadata": {
  "language_info": {
   "name": "python"
  },
  "orig_nbformat": 4
 },
 "nbformat": 4,
 "nbformat_minor": 2
}
