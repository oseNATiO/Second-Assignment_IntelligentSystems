{
 "cells": [
  {
   "cell_type": "code",
   "execution_count": 17,
   "metadata": {},
   "outputs": [],
   "source": [
    "# Imports\n",
    "import anfis\n",
    "import os\n",
    "import pandas as pd\n",
    "import numpy as np\n",
    "from sklearn.datasets import load_iris\n",
    "from sklearn.model_selection import train_test_split\n",
    "from pyfume.Clustering import Clusterer\n",
    "from pyfume.EstimateAntecendentSet import AntecedentEstimator\n",
    "from pyfume.EstimateConsequentParameters import ConsequentEstimator\n",
    "from pyfume.SimpfulModelBuilder import SugenoFISBuilder\n",
    "from pyfume.Tester import SugenoFISTester\n",
    "from sklearn.preprocessing import MinMaxScaler\n",
    "from sklearn.metrics import accuracy_score, recall_score, precision_score, f1_score, cohen_kappa_score\n",
    "from numpy import clip, column_stack, argmax, vectorize"
   ]
  },
  {
   "cell_type": "code",
   "execution_count": 18,
   "metadata": {},
   "outputs": [],
   "source": [
    "# Import and clean the data\n",
    "column_names = [\"Clump_Thickness\", \"Uniformity_of_Cell_Size\", \"Uniformity_of_Cell_Shape\", \"Marginal_Adhesion\", \"Single_Epithelial_Cell_Size\", \"Bland_Chromatin\", \"Normal_Nucleoli\", \"Mitoses\", \"Something\", \"Cancer\"]\n",
    "var_names = [\"Clump_Thickness\", \"Uniformity_of_Cell_Size\", \"Uniformity_of_Cell_Shape\", \"Marginal_Adhesion\", \"Single_Epithelial_Cell_Size\", \"Bland_Chromatin\", \"Normal_Nucleoli\", \"Mitoses\", \"Something\"]\n",
    "data = pd.read_csv(os.path.abspath('wbco.csv'),names=column_names)\n",
    "data.head()\n",
    "rows_with_question_mark = data[data.isin([\"?\"]).any(axis=1)].index\n",
    "data = data.drop(rows_with_question_mark)\n",
    "data = data.astype('int')\n",
    "data['Cancer'] = data['Cancer'].astype('int')\n",
    "column_names = column_names[:-1]\n",
    "\n",
    "# Set seed\n",
    "seed = 7\n",
    "\n",
    "# Normalize the dataset\n",
    "scaler_input = MinMaxScaler()\n",
    "scaler_output = MinMaxScaler()\n",
    "\n",
    "# Choose predictors and output\n",
    "X = scaler_input.fit_transform(data[column_names].values)\n",
    "y = scaler_output.fit_transform(data[\"Cancer\"].values.reshape(-1, 1))"
   ]
  },
  {
   "cell_type": "code",
   "execution_count": 19,
   "metadata": {},
   "outputs": [],
   "source": [
    "# Train test split\n",
    "X_train, X_test, y_train, y_test = train_test_split(X, y, test_size=0.2, random_state=42)\n",
    "y_train = np.squeeze(y_train)"
   ]
  },
  {
   "cell_type": "code",
   "execution_count": 20,
   "metadata": {},
   "outputs": [
    {
     "name": "stdout",
     "output_type": "stream",
     "text": [
      " * Detected 10 rules / clusters\n",
      " * Detected Sugeno model type\n"
     ]
    }
   ],
   "source": [
    "## Train 0 vs all model\n",
    "\n",
    "# Create 0-vs-all target vector\n",
    "y_train_0_vs_all = vectorize({0:1,1:0,2:0}.get)(y_train)\n",
    "# Cluster the input-output space\n",
    "cl = Clusterer(x_train=X_train, y_train=y_train_0_vs_all, nr_clus=10)\n",
    "clust_centers, part_matrix, _ = cl.cluster(method='fcm')\n",
    "# Estimate membership functions parameters\n",
    "ae = AntecedentEstimator(X_train, part_matrix)\n",
    "antecedent_params = ae.determineMF()\n",
    "# Estimate consequent parameters\n",
    "ce = ConsequentEstimator(X_train, y_train_0_vs_all, part_matrix)\n",
    "conseq_params_0_vs_all = ce.suglms()\n",
    "# Build first-order Takagi-Sugeno model\n",
    "modbuilder = SugenoFISBuilder(antecedent_params, conseq_params_0_vs_all, var_names, save_simpful_code=False)\n",
    "ts_0_vs_all = modbuilder.get_model()"
   ]
  },
  {
   "cell_type": "code",
   "execution_count": 21,
   "metadata": {},
   "outputs": [
    {
     "name": "stdout",
     "output_type": "stream",
     "text": [
      " * Detected 10 rules / clusters\n",
      " * Detected Sugeno model type\n"
     ]
    }
   ],
   "source": [
    "## Train 1 vs all model\n",
    "\n",
    "# Create 1-vs-all target vector\n",
    "y_train_1_vs_all = vectorize({0:0,1:1,2:0}.get)(y_train)\n",
    "# Cluster the input-output space\n",
    "cl = Clusterer(x_train=X_train, y_train=y_train_1_vs_all, nr_clus=10)\n",
    "clust_centers, part_matrix, _ = cl.cluster(method='fcm')\n",
    "# Estimate membership functions parameters\n",
    "ae = AntecedentEstimator(X_train, part_matrix)\n",
    "antecedent_params = ae.determineMF()\n",
    "# Estimate consequent parameters\n",
    "ce = ConsequentEstimator(X_train, y_train_1_vs_all, part_matrix)\n",
    "conseq_params_1_vs_all = ce.suglms()\n",
    "# Build first-order Takagi-Sugeno model\n",
    "modbuilder = SugenoFISBuilder(antecedent_params, conseq_params_1_vs_all, var_names, save_simpful_code=False)\n",
    "ts_1_vs_all = modbuilder.get_model()"
   ]
  },
  {
   "cell_type": "code",
   "execution_count": 22,
   "metadata": {},
   "outputs": [
    {
     "name": "stdout",
     "output_type": "stream",
     "text": [
      " * Detected 10 rules / clusters\n",
      " * Detected Sugeno model type\n"
     ]
    }
   ],
   "source": [
    "## Train 2 vs all model\n",
    "\n",
    "# Create 2-vs-all target vector\n",
    "y_train_2_vs_all = vectorize({0:0,1:0,2:1}.get)(y_train)\n",
    "# Cluster the input-output space\n",
    "cl = Clusterer(x_train=X_train, y_train=y_train_2_vs_all, nr_clus=10)\n",
    "clust_centers, part_matrix, _ = cl.cluster(method='fcm')\n",
    "# Estimate membership functions parameters\n",
    "ae = AntecedentEstimator(X_train, part_matrix)\n",
    "antecedent_params = ae.determineMF()\n",
    "# Estimate consequent parameters\n",
    "ce = ConsequentEstimator(X_train, y_train_2_vs_all, part_matrix)\n",
    "conseq_params_2_vs_all = ce.suglms()\n",
    "# Build first-order Takagi-Sugeno model\n",
    "modbuilder = SugenoFISBuilder(antecedent_params, conseq_params_2_vs_all, var_names, save_simpful_code=False)\n",
    "ts_2_vs_all = modbuilder.get_model()"
   ]
  },
  {
   "cell_type": "code",
   "execution_count": 23,
   "metadata": {},
   "outputs": [],
   "source": [
    "## Get class probabilities predictions for each ova model\n",
    "\n",
    "# Class probabilities predictions for 0 vs all\n",
    "modtester = SugenoFISTester(ts_0_vs_all, X_test, var_names)\n",
    "y_pred_probs_0_vs_all = clip(modtester.predict()[0], 0, 1)\n",
    "y_pred_probs_0_vs_all = column_stack((1 - y_pred_probs_0_vs_all, y_pred_probs_0_vs_all))\n",
    "\n",
    "# Class probabilities predictions for 1 vs all\n",
    "modtester = SugenoFISTester(ts_1_vs_all, X_test, var_names)\n",
    "y_pred_probs_1_vs_all = clip(modtester.predict()[0], 0, 1)\n",
    "y_pred_probs_1_vs_all = column_stack((1 - y_pred_probs_1_vs_all, y_pred_probs_1_vs_all))\n",
    "\n",
    "# Class probabilities predictions for 2 vs all\n",
    "modtester = SugenoFISTester(ts_2_vs_all, X_test, var_names)\n",
    "y_pred_probs_2_vs_all = clip(modtester.predict()[0], 0, 1)\n",
    "y_pred_probs_2_vs_all = column_stack((1 - y_pred_probs_2_vs_all, y_pred_probs_2_vs_all))\n",
    "\n",
    "# Aggregate class probabilities and get class predictions\n",
    "y_pred_probs = column_stack((y_pred_probs_0_vs_all[:,1],y_pred_probs_0_vs_all[:,0],y_pred_probs_0_vs_all[:,0])) +\\\n",
    "               column_stack((y_pred_probs_1_vs_all[:,0],y_pred_probs_1_vs_all[:,1],y_pred_probs_1_vs_all[:,0])) +\\\n",
    "               column_stack((y_pred_probs_2_vs_all[:,0],y_pred_probs_2_vs_all[:,0],y_pred_probs_2_vs_all[:,1]))\n",
    "y_pred_probs = y_pred_probs/y_pred_probs.sum(axis=1,keepdims=1)\n",
    "y_pred = argmax(y_pred_probs,axis=1)"
   ]
  },
  {
   "cell_type": "code",
   "execution_count": 24,
   "metadata": {},
   "outputs": [
    {
     "name": "stdout",
     "output_type": "stream",
     "text": [
      "Accuracy: 0.985\n",
      "Recall: 0.983\n",
      "Precision Score: 0.983\n",
      "F1-Score: 0.983\n",
      "Kappa Score: 0.970\n"
     ]
    }
   ],
   "source": [
    "# Compute classification metrics\n",
    "acc_score = accuracy_score(y_test, y_pred)\n",
    "print(\"Accuracy: {:.3f}\".format(acc_score))\n",
    "rec_score = recall_score(y_test, y_pred)\n",
    "print(\"Recall: {:.3f}\".format(rec_score))\n",
    "prec_score = precision_score(y_test, y_pred)\n",
    "print(\"Precision Score: {:.3f}\".format(prec_score))\n",
    "F1_score = f1_score(y_test, y_pred)\n",
    "print(\"F1-Score: {:.3f}\".format(F1_score))\n",
    "kappa = cohen_kappa_score(y_test, y_pred)\n",
    "print(\"Kappa Score: {:.3f}\".format(kappa))"
   ]
  },
  {
   "cell_type": "code",
   "execution_count": 25,
   "metadata": {},
   "outputs": [
    {
     "ename": "AttributeError",
     "evalue": "module 'anfis' has no attribute 'ANFIS'",
     "output_type": "error",
     "traceback": [
      "\u001b[1;31m---------------------------------------------------------------------------\u001b[0m",
      "\u001b[1;31mAttributeError\u001b[0m                            Traceback (most recent call last)",
      "Cell \u001b[1;32mIn[25], line 4\u001b[0m\n\u001b[0;32m      1\u001b[0m \u001b[38;5;66;03m## Optimize models\u001b[39;00m\n\u001b[0;32m      2\u001b[0m \n\u001b[0;32m      3\u001b[0m \u001b[38;5;66;03m# Optimize 0-vs-all ANFIS model\u001b[39;00m\n\u001b[1;32m----> 4\u001b[0m anf_0_vs_all \u001b[38;5;241m=\u001b[39m \u001b[43manfis\u001b[49m\u001b[38;5;241;43m.\u001b[39;49m\u001b[43mANFIS\u001b[49m(X_train, y_train_0_vs_all, ts_0_vs_all, conseq_params_0_vs_all)\n\u001b[0;32m      5\u001b[0m anf_0_vs_all\u001b[38;5;241m.\u001b[39mtrainHybridJangOffLine(epochs\u001b[38;5;241m=\u001b[39m\u001b[38;5;241m20\u001b[39m)\n\u001b[0;32m      7\u001b[0m \u001b[38;5;66;03m# Optimize 1-vs-all ANFIS model\u001b[39;00m\n",
      "\u001b[1;31mAttributeError\u001b[0m: module 'anfis' has no attribute 'ANFIS'"
     ]
    }
   ],
   "source": [
    "## Optimize models\n",
    "\n",
    "# Optimize 0-vs-all ANFIS model\n",
    "anf_0_vs_all = anfis.ANFIS(X_train, y_train_0_vs_all, ts_0_vs_all, conseq_params_0_vs_all)\n",
    "anf_0_vs_all.trainHybridJangOffLine(epochs=20)\n",
    "\n",
    "# Optimize 1-vs-all ANFIS model\n",
    "anf_1_vs_all = anfis.ANFIS(X_train, y_train_1_vs_all, ts_1_vs_all, conseq_params_1_vs_all)\n",
    "anf_1_vs_all.trainHybridJangOffLine(epochs=20)\n",
    "\n",
    "# Optimize 2-vs-all ANFIS model\n",
    "anf_2_vs_all = anfis.ANFIS(X_train, y_train_2_vs_all, ts_2_vs_all, conseq_params_2_vs_all)\n",
    "anf_2_vs_all.trainHybridJangOffLine(epochs=20)"
   ]
  },
  {
   "cell_type": "code",
   "execution_count": null,
   "metadata": {},
   "outputs": [],
   "source": [
    "## Get class probabilities predictions for each ova model\n",
    "\n",
    "# Class probabilities predictions for 0 vs all\n",
    "y_pred_probs_0_vs_all = clip(anfis.predict(anf_0_vs_all, X_test), 0, 1)\n",
    "y_pred_probs_0_vs_all = column_stack((1 - y_pred_probs_0_vs_all, y_pred_probs_0_vs_all))\n",
    "\n",
    "# Class probabilities predictions for 1 vs all\n",
    "y_pred_probs_1_vs_all = clip(anfis.predict(anf_1_vs_all, X_test), 0, 1)\n",
    "y_pred_probs_1_vs_all = column_stack((1 - y_pred_probs_1_vs_all, y_pred_probs_1_vs_all))\n",
    "\n",
    "# Class probabilities predictions for 2 vs all\n",
    "y_pred_probs_2_vs_all = clip(anfis.predict(anf_2_vs_all, X_test), 0, 1)\n",
    "y_pred_probs_2_vs_all = column_stack((1 - y_pred_probs_2_vs_all, y_pred_probs_2_vs_all))\n",
    "\n",
    "# Aggregate class probabilities and get class predictions\n",
    "y_pred_probs = column_stack((y_pred_probs_0_vs_all[:,1],y_pred_probs_0_vs_all[:,0],y_pred_probs_0_vs_all[:,0])) +\\\n",
    "               column_stack((y_pred_probs_1_vs_all[:,0],y_pred_probs_1_vs_all[:,1],y_pred_probs_1_vs_all[:,0])) +\\\n",
    "               column_stack((y_pred_probs_2_vs_all[:,0],y_pred_probs_2_vs_all[:,0],y_pred_probs_2_vs_all[:,1]))\n",
    "y_pred_probs = y_pred_probs/y_pred_probs.sum(axis=1,keepdims=1)\n",
    "y_pred = argmax(y_pred_probs,axis=1)"
   ]
  },
  {
   "cell_type": "code",
   "execution_count": null,
   "metadata": {},
   "outputs": [],
   "source": [
    "# Compute classification metrics\n",
    "acc_score_final = accuracy_score(y_test, y_pred)\n",
    "print(\"Accuracy: {:.3f}\".format(acc_score))\n",
    "rec_score_final = recall_score(y_test, y_pred)\n",
    "print(\"Recall: {:.3f}\".format(rec_score))\n",
    "prec_score_final = precision_score(y_test, y_pred)\n",
    "print(\"Precision Score: {:.3f}\".format(prec_score))\n",
    "F1_score_final = f1_score(y_test, y_pred)\n",
    "print(\"F1-Score: {:.3f}\".format(F1_score))\n",
    "kappa_final = cohen_kappa_score(y_test, y_pred)\n",
    "print(\"Kappa Score: {:.3f}\".format(kappa))"
   ]
  }
 ],
 "metadata": {
  "kernelspec": {
   "display_name": "Python 3",
   "language": "python",
   "name": "python3"
  },
  "language_info": {
   "codemirror_mode": {
    "name": "ipython",
    "version": 3
   },
   "file_extension": ".py",
   "mimetype": "text/x-python",
   "name": "python",
   "nbconvert_exporter": "python",
   "pygments_lexer": "ipython3",
   "version": "3.11.7"
  }
 },
 "nbformat": 4,
 "nbformat_minor": 2
}
