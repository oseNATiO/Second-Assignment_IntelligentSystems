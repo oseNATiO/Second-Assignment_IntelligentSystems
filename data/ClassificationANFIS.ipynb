{
 "cells": [
  {
   "cell_type": "code",
   "execution_count": 2,
   "metadata": {},
   "outputs": [],
   "source": [
    "# Imports\n",
    "import anfis\n",
    "import os\n",
    "import pandas as pd\n",
    "from sklearn.datasets import load_iris\n",
    "from sklearn.model_selection import train_test_split\n",
    "from pyfume.Clustering import Clusterer\n",
    "from pyfume.EstimateAntecendentSet import AntecedentEstimator\n",
    "from pyfume.EstimateConsequentParameters import ConsequentEstimator\n",
    "from pyfume.SimpfulModelBuilder import SugenoFISBuilder\n",
    "from pyfume.Tester import SugenoFISTester\n",
    "from sklearn.preprocessing import MinMaxScaler\n",
    "from sklearn.metrics import accuracy_score, recall_score, precision_score, f1_score, cohen_kappa_score\n",
    "from numpy import clip, column_stack, argmax, vectorize"
   ]
  },
  {
   "cell_type": "code",
   "execution_count": 3,
   "metadata": {},
   "outputs": [],
   "source": [
    "# Import and clean the data\n",
    "column_names = [\"Clump_Thickness\", \"Uniformity_of_Cell_Size\", \"Uniformity_of_Cell_Shape\", \"Marginal_Adhesion\", \"Single_Epithelial_Cell_Size\", \"Bland_Chromatin\", \"Normal_Nucleoli\", \"Mitoses\", \"Something\", \"Cancer\"]\n",
    "data = pd.read_csv(os.path.abspath('wbco.csv'),names=column_names)\n",
    "data.head()\n",
    "rows_with_question_mark = data[data.isin([\"?\"]).any(axis=1)].index\n",
    "data = data.drop(rows_with_question_mark)\n",
    "data = data.astype('int')\n",
    "data['Cancer'] = data['Cancer'].astype('int')\n",
    "column_names = column_names[:-1]\n",
    "\n",
    "# Set seed\n",
    "seed = 7\n",
    "\n",
    "# Normalize the dataset\n",
    "scaler_input = MinMaxScaler()\n",
    "scaler_output = MinMaxScaler()\n",
    "\n",
    "# Choose predictors and output\n",
    "X = scaler_input.fit_transform(data[column_names].values)\n",
    "y = scaler_output.fit_transform(data[\"Cancer\"].values.reshape(-1, 1))"
   ]
  }
 ],
 "metadata": {
  "kernelspec": {
   "display_name": "Python 3",
   "language": "python",
   "name": "python3"
  },
  "language_info": {
   "codemirror_mode": {
    "name": "ipython",
    "version": 3
   },
   "file_extension": ".py",
   "mimetype": "text/x-python",
   "name": "python",
   "nbconvert_exporter": "python",
   "pygments_lexer": "ipython3",
   "version": "3.11.7"
  }
 },
 "nbformat": 4,
 "nbformat_minor": 2
}
